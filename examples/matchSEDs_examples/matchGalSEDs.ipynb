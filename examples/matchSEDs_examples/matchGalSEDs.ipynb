{
 "cells": [
  {
   "cell_type": "markdown",
   "metadata": {},
   "source": [
    "# Galaxy SED Matching using selectGalaxySED.py"
   ]
  },
  {
   "cell_type": "markdown",
   "metadata": {},
   "source": [
    "\"selectGalaxySED.py\" is designed to do the matching for galaxy objects. There are two steps to using this program: "
   ]
  },
  {
   "cell_type": "markdown",
   "metadata": {},
   "source": [
    "1) First load the model SEDs you would like to use. If using the Bruzual & Charlot models from sims_sed_library you can use the built-in \"loadBC03\" method provided as shown in the example below. However, this can be used as a template for creating loading methods for your own model SEDs if desired. Be aware that since the BC03 SEDs are defined in the sims_sed_library to be in the rest frame, this code assumes that any incoming model SEDs are in the rest frame. If using your own folder of model SEDs specify the parameter \"galDir\" when initializing the class."
   ]
  },
  {
   "cell_type": "code",
   "execution_count": null,
   "metadata": {
    "collapsed": false
   },
   "outputs": [],
   "source": [
    "from lsst.sims.photUtils.selectGalaxySED import selectGalaxySED\n",
    "\n",
    "#If you are using your own folder this should be selectGalaxySED(galDir = yourFolder)\n",
    "matchSED = selectGalaxySED()\n",
    "\"\"\"Can restrict the loading below to a subset of the SEDs in a given folder if you pass a list\n",
    "as matchSED.loadBC03(subset = subsetList)\"\"\"\n",
    "sedList = matchSED.loadBC03()"
   ]
  },
  {
   "cell_type": "markdown",
   "metadata": {},
   "source": [
    "Now you have a set of SED class objects. Each object in the set has the attributes wavelen, flambda, name, type, age, and metallicity (defined as a ratio to solar metallicity)."
   ]
  },
  {
   "cell_type": "code",
   "execution_count": null,
   "metadata": {
    "collapsed": false
   },
   "outputs": [],
   "source": [
    "print sedList[0].wavelen\n",
    "print sedList[0].flambda\n",
    "print sedList[0].name"
   ]
  },
  {
   "cell_type": "markdown",
   "metadata": {},
   "source": [
    "You now have a set of model SEDs ready to match to your catalog objects."
   ]
  },
  {
   "cell_type": "markdown",
   "metadata": {},
   "source": [
    "2) Once the SEDs are loaded you have two options for matching depending on your catalog type. If your catalog contains rest frame magnitudes and needs no dust or redshift corrections then you can match to the model SEDs using \"matchToRestFrame\". Before this you need to specify your bandpasses and pass them in to the rest frame matching algorithm.\n",
    "\n",
    "Notice the matching algorithm also returns magNorm values that when used with the matched SED will\n",
    "most closely reproduce the catalog object's magnitudes."
   ]
  },
  {
   "cell_type": "code",
   "execution_count": null,
   "metadata": {
    "collapsed": false
   },
   "outputs": [],
   "source": [
    "import os\n",
    "import numpy as np\n",
    "import lsst.utils\n",
    "from lsst.sims.photUtils import BandpassDict\n",
    "\n",
    "#Import sample galaxy catalog organized as [RA, Dec, z, mag_g, mag_r, mag_i, mag_z, mag_y]\n",
    "ra, dec, z, mag_g, mag_r, mag_i, mag_z, mag_y = np.genfromtxt('sampleCatalogs/sampleGalCat.dat', unpack=True)\n",
    "\n",
    "\"\"\"Organize magnitudes into single array with each row corresponding to the \n",
    "set of magnitudes of one object\"\"\"\n",
    "catMags = np.transpose([mag_g, mag_r, mag_i, mag_z, mag_y])\n",
    "\n",
    "#Define bandpasses. This example shows loading in LSST grizy bandpasses.\n",
    "galBandpassDict = BandpassDict.loadTotalBandpassesFromFiles(['g', 'r', 'i', 'z', 'y'])\n",
    "\n",
    "#We'll need to set makeCopy to True since we are going to reuse this sedList below\n",
    "matchRestFrameNames, matchRestMagNorm, matchErrors = matchSED.matchToRestFrame(sedList, catMags, \n",
    "                                                                               bandpassDict = galBandpassDict,\n",
    "                                                                               makeCopy = True)\n",
    "\n",
    "#Show the resulting matches\n",
    "print matchRestFrameNames\n",
    "print matchRestMagNorm\n",
    "print matchErrors"
   ]
  },
  {
   "cell_type": "markdown",
   "metadata": {},
   "source": [
    "If your catalog magnitudes are observed and require correction for milky way dust and redshift you should use \"matchToObserved\". \n",
    "\n",
    "Since for speed this generates colors for the model SEDs on a grid of redshift values, you can specify the digits after the decimal point you want to step through in this grid with the parameter dzAcc (default is dzAcc = 2 which will make a grid with steps in z equal to 0.01).\n",
    "\n",
    "If correcting for reddening refer to <a href=\"http://adsabs.harvard.edu/abs/2011ApJ...737..103S\">Schlafly and Finkbeiner (2011)</a> for the extinction coefficients for your filters. We use R<sub>v</sub> = 3.1 coefficients in Table 6 in that paper. Defaults are for SDSS ugriz. For reference:\n",
    "\n",
    "SDSS ugriz coefficients in order are [4.239, 3.303, 2.285, 1.698, 1.263]\n",
    "\n",
    "LSST ugrizy are [4.145, 3.237, 2.273, 1.684, 1.323, 1.088]"
   ]
  },
  {
   "cell_type": "code",
   "execution_count": null,
   "metadata": {
    "collapsed": false
   },
   "outputs": [],
   "source": [
    "#This time we will use SDSS griz bandpasses. \n",
    "\n",
    "#If using full SDSS ugriz then you do not have to load the Bandpasses ahead of time\n",
    "#or specify the extCoeffs since these are the default values for matchToObserved.\n",
    "sdssBandpassDict = BandpassDict.loadTotalBandpassesFromFiles(['g', 'r', 'i', 'z'], bandpassDir = os.path.join(lsst.utils.getPackageDir('throughputs'),'sdss'),\n",
    "                                bandpassRoot ='sdss_')\n",
    "\n",
    "catMagsObs = np.transpose([mag_g, mag_r, mag_i, mag_z])\n",
    "\n",
    "matchObservedNames, matchObsMagNorm, matchObsErrors = matchSED.matchToObserved(sedList, catMagsObs, z, \n",
    "                                                                               catRA = ra, catDec = dec, \n",
    "                                                                               bandpassDict = sdssBandpassDict,\n",
    "                                                                               dzAcc = 2,\n",
    "                                                                               extCoeffs = (3.303, 2.285, 1.698, \n",
    "                                                                                            1.263))\n",
    "print matchObservedNames\n",
    "print matchObsMagNorm\n",
    "print matchObsErrors"
   ]
  }
 ],
 "metadata": {
  "kernelspec": {
   "display_name": "Python 2",
   "language": "python",
   "name": "python2"
  },
  "language_info": {
   "codemirror_mode": {
    "name": "ipython",
    "version": 2
   },
   "file_extension": ".py",
   "mimetype": "text/x-python",
   "name": "python",
   "nbconvert_exporter": "python",
   "pygments_lexer": "ipython2",
   "version": "2.7.10"
  }
 },
 "nbformat": 4,
 "nbformat_minor": 0
}
