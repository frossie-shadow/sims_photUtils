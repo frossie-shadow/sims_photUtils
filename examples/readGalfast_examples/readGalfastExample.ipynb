{
 "metadata": {
  "name": "",
  "signature": "sha256:f98023629205c094817cd89f5c0e38c1116055c622b59a8177a77b77edfa56f3"
 },
 "nbformat": 3,
 "nbformat_minor": 0,
 "worksheets": [
  {
   "cells": [
    {
     "cell_type": "heading",
     "level": 1,
     "metadata": {},
     "source": [
      "Using readGalfast.py"
     ]
    },
    {
     "cell_type": "markdown",
     "metadata": {},
     "source": [
      "After running Galfast you will have an output catalog with object information and magnitudes. \"readGalfast.py\" is designed to process the Galfast Catalog and return a matched SED along relevant information that is included in the UW simulations catalogs. If the path variables are unset in the initial call then the routine will default to using what is available in the LSST stack's \"sims_sed_library\". However, if you have different locations for your SEDs you can specify those (below we specify new locations for the white dwarf SEDs). You can also declare a subset of the SEDs in whichever folder you use. For instance if you only wanted to use a particular metallicity of kurucz SEDs within the set provided in \"sims_sed_library\" you would do so as shown in the example below."
     ]
    },
    {
     "cell_type": "code",
     "collapsed": false,
     "input": [
      "import numpy as np\n",
      "import os\n",
      "import lsst.utils\n",
      "from lsst.sims.photUtils.readGalfast import readGalfast\n",
      "\n",
      "#Setup list of km01 metallicity Kurucz SEDs\n",
      "kuruczList = os.listdir(str(lsst.utils.getPackageDir('sims_sed_library') + '/starSED/kurucz/'))\n",
      "km01List = []\n",
      "for kuruczName in kuruczList:\n",
      "    if kuruczName.startswith('km01'):\n",
      "        km01List.append(kuruczName)\n",
      "\n",
      "rgExample = readGalfast()\n",
      "rgExample.loadGalfast(['sampleCatalogs/sampleGalfastCat.txt'],\n",
      "                      ['exampleOutput.txt'],\n",
      "                      wdPath = 'sampleSEDs/wd/',\n",
      "                      kuruczSubset = km01List)"
     ],
     "language": "python",
     "metadata": {},
     "outputs": []
    },
    {
     "cell_type": "markdown",
     "metadata": {},
     "source": [
      "The output file contains a csv file with all catalog objects and the relevant information. Shown below is the header and first line of the output file. Notice the matched SED is included here."
     ]
    },
    {
     "cell_type": "code",
     "collapsed": false,
     "input": [
      "rgOut = open('exampleOutput.txt', 'r')\n",
      "print rgOut.readline()\n",
      "print rgOut.readline()\n",
      "rgOut.close()"
     ],
     "language": "python",
     "metadata": {},
     "outputs": []
    },
    {
     "cell_type": "code",
     "collapsed": false,
     "input": [
      "#This deletes the output file from the examples directory when you are done. \n",
      "#If you don't want this, just comment it out.\n",
      "os.remove('exampleOutput.txt')"
     ],
     "language": "python",
     "metadata": {},
     "outputs": []
    }
   ],
   "metadata": {}
  }
 ]
}